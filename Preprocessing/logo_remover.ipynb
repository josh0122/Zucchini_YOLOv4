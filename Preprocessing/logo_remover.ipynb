{
 "cells": [
  {
   "cell_type": "code",
   "execution_count": 1,
   "metadata": {},
   "outputs": [],
   "source": [
    "import cv2\n",
    "import numpy as np"
   ]
  },
  {
   "cell_type": "code",
   "execution_count": 3,
   "metadata": {},
   "outputs": [],
   "source": [
    "#Sobel기법 함수\n",
    "\n",
    "def ImageSobel():\n",
    "\n",
    "    imageFile = \"C:/Users/no2pe/Desktop/pump.jpg\"\n",
    "    # 흑백 사진을 이용하여 작업\n",
    "    img = cv2.imread(imageFile,cv2.IMREAD_GRAYSCALE)\n",
    "    \n",
    "    img = cv2.resize(img,(1000,1000))\n",
    "\n",
    "    # x축에 대한 Sobel 미분\n",
    "    # y축에 대한 Sobel 미분\n",
    "    # 출력이미지는 원본이미지의 타입과 동일\n",
    "    # 커널 사이즈는 3x3\n",
    "    sobelx = cv2.Sobel(img, -1, 1, 0, ksize=3)\n",
    "    sobely = cv2.Sobel(img, -1, 0, 1, ksize=3)\n",
    "\n",
    "    cv2.imshow(\"ORIGIN\",img)\n",
    "    cv2.imshow(\"sobelX\",sobelx)\n",
    "    cv2.imshow(\"sobelY\",sobely)\n",
    "\n",
    "    cv2.waitKey(0)\n",
    "    cv2.destroyAllWindows()\n",
    "\n",
    "ImageSobel()"
   ]
  },
  {
   "cell_type": "code",
   "execution_count": 26,
   "metadata": {},
   "outputs": [],
   "source": [
    "#canny, sobel, laplacian기법 활용 - good_pump\n",
    "\n",
    "src = cv2.imread(\"C:/Users/no2pe/Desktop/pump.jpg\", cv2.IMREAD_COLOR)\n",
    "src = cv2.resize(src,(1000,1000))\n",
    "gray = cv2.cvtColor(src, cv2.COLOR_BGR2GRAY)\n",
    "\n",
    "canny = cv2.Canny(src, 235, 350)\n",
    "sobel = cv2.Sobel(gray, cv2.CV_8U, 1, 0, 3)\n",
    "laplacian = cv2.Laplacian(gray, cv2.CV_8U, ksize=3)\n",
    "\n",
    "cv2.imshow(\"canny\", canny)\n",
    "cv2.imshow(\"sobel\", sobel)\n",
    "cv2.imshow(\"laplacian\", laplacian)\n",
    "cv2.waitKey(0)\n",
    "cv2.destroyAllWindows()"
   ]
  },
  {
   "cell_type": "code",
   "execution_count": null,
   "metadata": {},
   "outputs": [],
   "source": [
    "#canny, sobel, laplacian기법 활용 - bad_pump\n",
    "\n",
    "src = cv2.imread(\"C:/Users/no2pe/Desktop/bad_pump.jpg\", cv2.IMREAD_COLOR)\n",
    "src = cv2.resize(src,(1000,1000))\n",
    "gray = cv2.cvtColor(src, cv2.COLOR_BGR2GRAY)\n",
    "\n",
    "canny = cv2.Canny(src, 100, 255)\n",
    "sobel = cv2.Sobel(gray, cv2.CV_8U, 1, 0, 3)\n",
    "laplacian = cv2.Laplacian(gray, cv2.CV_8U, ksize=3)\n",
    "\n",
    "cv2.imshow(\"canny\", canny)\n",
    "cv2.imshow(\"sobel\", sobel)\n",
    "cv2.imshow(\"laplacian\", laplacian)\n",
    "cv2.waitKey(0)\n",
    "cv2.destroyAllWindows()"
   ]
  },
  {
   "cell_type": "code",
   "execution_count": 5,
   "metadata": {},
   "outputs": [],
   "source": [
    "#canny활용 - pump_front\n",
    "\n",
    "src = cv2.imread(\"C:/Users/no2pe/Desktop/pump.jpg\", cv2.IMREAD_COLOR)\n",
    "src = cv2.resize(src,(1000,1000))\n",
    "gray = cv2.cvtColor(src, cv2.COLOR_BGR2GRAY)\n",
    "\n",
    "canny = cv2.Canny(src, 200, 500)\n",
    "cv2.imshow(\"canny\", canny)\n",
    "cv2.waitKey(0)\n",
    "cv2.destroyAllWindows()"
   ]
  },
  {
   "cell_type": "code",
   "execution_count": 6,
   "metadata": {},
   "outputs": [],
   "source": [
    "#canny활용 - pump_back\n",
    "\n",
    "src = cv2.imread(\"C:/Users/no2pe/Desktop/pump_back.jpg\", cv2.IMREAD_COLOR)\n",
    "src = cv2.resize(src,(1000,1000))\n",
    "gray = cv2.cvtColor(src, cv2.COLOR_BGR2GRAY)\n",
    "\n",
    "canny = cv2.Canny(src, 200, 500)\n",
    "cv2.imshow(\"canny\", canny)\n",
    "cv2.waitKey(0)\n",
    "cv2.destroyAllWindows()"
   ]
  },
  {
   "cell_type": "code",
   "execution_count": 71,
   "metadata": {},
   "outputs": [],
   "source": [
    "#canny활용 - bad_pump\n",
    "\n",
    "src = cv2.imread(\"C:/Users/no2pe/Desktop/bad2.jpg\", cv2.IMREAD_COLOR)\n",
    "src = cv2.resize(src,(1000,1000))\n",
    "gray = cv2.cvtColor(src, cv2.COLOR_BGR2GRAY)\n",
    "\n",
    "canny = cv2.Canny(src, 100, 500)\n",
    "cv2.imshow(\"canny\", canny)\n",
    "cv2.waitKey(0)\n",
    "cv2.destroyAllWindows()"
   ]
  },
  {
   "cell_type": "code",
   "execution_count": 15,
   "metadata": {},
   "outputs": [],
   "source": [
    "#RGB -> HSV로 변환 및 이미지 출력\n",
    "\n",
    "img = cv2.imread('C:/Users/no2pe/Desktop/bad2.jpg')\n",
    "img = cv2.resize(img,(1000,1000))\n",
    "img_hsv = cv2.cvtColor(img, cv2.COLOR_BGR2HSV)\n",
    "cv2.imshow('img_hsv',img_hsv)\n",
    "cv2.waitKey(0)\n",
    "cv2.destroyAllWindows()"
   ]
  },
  {
   "cell_type": "code",
   "execution_count": 17,
   "metadata": {},
   "outputs": [],
   "source": [
    "import cv2\n",
    "\n",
    "img_color = cv2.imread('C:/Users/no2pe/Desktop/pump.jpg')\n",
    "height,width = img_color.shape[:2]\n",
    "\n",
    "img_hsv = cv2.cvtColor(img_color, cv2.COLOR_BGR2HSV)\n"
   ]
  },
  {
   "cell_type": "code",
   "execution_count": 27,
   "metadata": {},
   "outputs": [],
   "source": [
    "lower_blue = (120-10, 30, 30)\n",
    "upper_blue = (120+10, 255, 255)\n",
    "\n",
    "img_mask = cv2.inRange(img_hsv, lower_blue, upper_blue)\n",
    "\n",
    "\n",
    "img_result = cv2.bitwise_and(img_color, img_color, mask = img_mask)\n",
    "\n",
    "\n",
    "cv2.imshow('img_color', img_color)\n",
    "cv2.imshow('img_mask', img_mask)\n",
    "cv2.imshow('img_result', img_result)\n",
    "\n",
    "\n",
    "cv2.waitKey(0)\n",
    "cv2.destroyAllWindows()"
   ]
  },
  {
   "cell_type": "code",
   "execution_count": 32,
   "metadata": {},
   "outputs": [],
   "source": [
    "lower_green = np.array([50, 100, 100]) \n",
    "upper_green = np.array([70, 255, 255])\n",
    "\n",
    "img_mask = cv2.inRange(img_hsv, lower_green, upper_green)\n",
    "\n",
    "\n",
    "img_result = cv2.bitwise_and(img_color, img_color, mask = img_mask)\n",
    "\n",
    "\n",
    "cv2.imshow('img_color', img_color)\n",
    "cv2.imshow('img_mask', img_mask)\n",
    "cv2.imshow('img_result', img_result)\n",
    "\n",
    "\n",
    "cv2.waitKey(0)\n",
    "cv2.destroyAllWindows()"
   ]
  },
  {
   "cell_type": "code",
   "execution_count": 29,
   "metadata": {},
   "outputs": [],
   "source": [
    "lower_red = np.array([-10, 100, 100]) \n",
    "upper_red = np.array([10, 255, 255])\n",
    "\n",
    "img_mask = cv2.inRange(img_hsv, lower_red, upper_red)\n",
    "\n",
    "\n",
    "img_result = cv2.bitwise_and(img_color, img_color, mask = img_mask)\n",
    "\n",
    "\n",
    "cv2.imshow('img_color', img_color)\n",
    "cv2.imshow('img_mask', img_mask)\n",
    "cv2.imshow('img_result', img_result)\n",
    "\n",
    "import cv2\n",
    "\n",
    "img_color = cv2.imread('C:/Users/no2pe/Desktop/pump.jpg')\n",
    "height,width = img_color.shape[:2]\n",
    "\n",
    "img_hsv = cv2.cvtColor(img_color, cv2.COLOR_BGR2HSV)\n",
    "\n",
    "cv2.waitKey(0)\n",
    "cv2.destroyAllWindows()"
   ]
  },
  {
   "cell_type": "code",
   "execution_count": 33,
   "metadata": {},
   "outputs": [],
   "source": [
    "#blue, green, red - create mask\n",
    "\n",
    "img_mask1 = cv2.inRange(img_hsv, lower_blue, upper_blue)\n",
    "img_mask2 = cv2.inRange(img_hsv, lower_green, upper_green)\n",
    "img_mask3 = cv2.inRange(img_hsv, lower_red, upper_red)\n",
    "\n",
    "img_mask123 = img_mask1 + img_mask2 + img_mask3\n",
    "\n",
    "cv2.imshow('img_mask123', img_mask123)\n",
    "cv2.waitKey(0)\n",
    "cv2.destroyAllWindows()"
   ]
  },
  {
   "cell_type": "code",
   "execution_count": 34,
   "metadata": {},
   "outputs": [],
   "source": [
    "lower_white = np.array([0, 0, 212])\n",
    "upper_white = np.array([131, 255, 255])\n",
    "\n",
    "img_mask = cv2.inRange(img_hsv, lower_white, upper_white)\n",
    "\n",
    "\n",
    "img_result = cv2.bitwise_and(img_color, img_color, mask = img_mask)\n",
    "\n",
    "\n",
    "cv2.imshow('img_color', img_color)\n",
    "cv2.imshow('img_mask', img_mask)\n",
    "cv2.imshow('img_result', img_result)\n",
    "\n",
    "\n",
    "cv2.waitKey(0)\n",
    "cv2.destroyAllWindows()"
   ]
  },
  {
   "cell_type": "code",
   "execution_count": 23,
   "metadata": {},
   "outputs": [],
   "source": [
    "#blue, green, red, white - create mask\n",
    "\n",
    "img_mask1 = cv2.inRange(img_hsv, lower_blue, upper_blue)\n",
    "img_mask2 = cv2.inRange(img_hsv, lower_green, upper_green)\n",
    "img_mask3 = cv2.inRange(img_hsv, lower_red, upper_red)\n",
    "img_mask4 = cv2.inRange(img_hsv, lower_white, upper_white)\n",
    "\n",
    "img_mask1234 = img_mask1 + img_mask2 + img_mask3 + img_mask4\n",
    "\n",
    "cv2.imshow('img_mask1234', img_mask1234)\n",
    "cv2.waitKey(0)\n",
    "cv2.destroyAllWindows()"
   ]
  },
  {
   "cell_type": "code",
   "execution_count": null,
   "metadata": {},
   "outputs": [],
   "source": [
    "lower_yellow = np.array([21, 39, 64])\n",
    "upper_yellow = np.array([40, 255, 255])\n",
    "\n",
    "img_mask = cv2.inRange(img_hsv, lower_yellow, upper_yellow)\n",
    "\n",
    "\n",
    "img_result = cv2.bitwise_and(img_color, img_color, mask = img_mask)\n",
    "\n",
    "\n",
    "cv2.imshow('img_color', img_color)\n",
    "cv2.imshow('img_mask', img_mask)\n",
    "cv2.imshow('img_result', img_result)\n",
    "\n",
    "\n",
    "cv2.waitKey(0)\n",
    "cv2.destroyAllWindows()"
   ]
  },
  {
   "cell_type": "code",
   "execution_count": 31,
   "metadata": {},
   "outputs": [],
   "source": [
    "lower_yellow = np.array([30, 40, 120])\n",
    "upper_yellow = np.array([45, 255, 200])\n",
    "\n",
    "img_mask = cv2.inRange(img_hsv, lower_yellow, upper_yellow)\n",
    "\n",
    "img_result = cv2.bitwise_and(img_color, img_color, mask = img_mask)\n",
    "\n",
    "#reverse_color\n",
    "img_mask_reverse = cv2.bitwise_not(img_mask)\n",
    "\n",
    "#cv2.imshow('img_color', img_color)\n",
    "#cv2.imshow('img_mask', img_mask)\n",
    "cv2.imshow('img_mask_reverse', img_mask_reverse)\n",
    "#cv2.imshow('img_result', img_result)\n",
    "\n",
    "\n",
    "cv2.waitKey(0)\n",
    "cv2.destroyAllWindows()"
   ]
  },
  {
   "cell_type": "code",
   "execution_count": 18,
   "metadata": {},
   "outputs": [],
   "source": [
    "import cv2\n",
    "\n",
    "img_color = cv2.imread('C:/Users/no2pe/Desktop/pump.jpg')\n",
    "img_color = cv2.resize(img_color,(1000,1000))\n",
    "height,width = img_color.shape[:2]\n",
    "\n",
    "img_hsv = cv2.cvtColor(img_color, cv2.COLOR_BGR2HSV)"
   ]
  },
  {
   "cell_type": "code",
   "execution_count": 21,
   "metadata": {},
   "outputs": [],
   "source": [
    "#impainting기법이용\n",
    "\n",
    "dst = cv2.inpaint(img_color,img_mask_reverse,3,cv2.INPAINT_TELEA)\n",
    "cv2.imshow('dst',dst)\n",
    "cv2.waitKey(0)\n",
    "cv2.destroyAllWindows()"
   ]
  },
  {
   "cell_type": "code",
   "execution_count": null,
   "metadata": {},
   "outputs": [],
   "source": [
    "#impainting기법이용\n",
    "\n",
    "dst = cv2.inpaint(img_color,img_mask_reverse,50,cv2.INPAINT_TELEA)\n",
    "cv2.imshow('dst',dst)\n",
    "cv2.waitKey(0)\n",
    "cv2.destroyAllWindows()"
   ]
  },
  {
   "cell_type": "code",
   "execution_count": null,
   "metadata": {},
   "outputs": [],
   "source": []
  }
 ],
 "metadata": {
  "kernelspec": {
   "display_name": "Python 3",
   "language": "python",
   "name": "python3"
  },
  "language_info": {
   "codemirror_mode": {
    "name": "ipython",
    "version": 3
   },
   "file_extension": ".py",
   "mimetype": "text/x-python",
   "name": "python",
   "nbconvert_exporter": "python",
   "pygments_lexer": "ipython3",
   "version": "3.7.6"
  }
 },
 "nbformat": 4,
 "nbformat_minor": 4
}
