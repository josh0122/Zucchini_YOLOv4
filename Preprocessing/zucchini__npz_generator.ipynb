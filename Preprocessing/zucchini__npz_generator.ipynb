{
  "nbformat": 4,
  "nbformat_minor": 0,
  "metadata": {
    "kernelspec": {
      "display_name": "Python 3",
      "language": "python",
      "name": "python3"
    },
    "language_info": {
      "codemirror_mode": {
        "name": "ipython",
        "version": 3
      },
      "file_extension": ".py",
      "mimetype": "text/x-python",
      "name": "python",
      "nbconvert_exporter": "python",
      "pygments_lexer": "ipython3",
      "version": "3.7.6"
    },
    "colab": {
      "name": "zucchini__npz_generator",
      "provenance": []
    }
  },
  "cells": [
    {
      "cell_type": "code",
      "metadata": {
        "id": "85xE6_5c1W-H",
        "colab_type": "code",
        "colab": {}
      },
      "source": [
        "import os\n",
        "from glob import glob\n",
        "\n",
        "import numpy as np\n",
        "import cv2\n",
        "\n",
        "import tensorflow as tf\n",
        "from PIL import Image\n",
        "\n",
        "import matplotlib.pyplot as plt\n",
        "%matplotlib inline"
      ],
      "execution_count": null,
      "outputs": []
    },
    {
      "cell_type": "code",
      "metadata": {
        "id": "BAOQWNM31W-L",
        "colab_type": "code",
        "colab": {}
      },
      "source": [
        "data_path = glob('./zucchini_new_dataset/*/*.jpg')"
      ],
      "execution_count": null,
      "outputs": []
    },
    {
      "cell_type": "code",
      "metadata": {
        "id": "cZ5TKYqB1W-N",
        "colab_type": "code",
        "colab": {},
        "outputId": "5883525f-0e59-4e11-b6e2-5e52c0ff5686"
      },
      "source": [
        "os.listdir('./zucchini_new_dataset')[1:]"
      ],
      "execution_count": null,
      "outputs": [
        {
          "output_type": "execute_result",
          "data": {
            "text/plain": [
              "['0', '1', '3', '2']"
            ]
          },
          "metadata": {
            "tags": []
          },
          "execution_count": 3
        }
      ]
    },
    {
      "cell_type": "code",
      "metadata": {
        "id": "gm0rJ5rI1W-R",
        "colab_type": "code",
        "colab": {}
      },
      "source": [
        "label_nums = os.listdir('./zucchini_new_dataset')[1:]"
      ],
      "execution_count": null,
      "outputs": []
    },
    {
      "cell_type": "code",
      "metadata": {
        "id": "BbiR3pc11W-T",
        "colab_type": "code",
        "colab": {}
      },
      "source": [
        "data_label = data_path.copy()"
      ],
      "execution_count": null,
      "outputs": []
    },
    {
      "cell_type": "code",
      "metadata": {
        "id": "XBnPRv3A1W-V",
        "colab_type": "code",
        "colab": {},
        "outputId": "beaf4d63-cd44-4c55-8e03-ab10c63f1ddd"
      },
      "source": [
        "data_path[0].split('/')[2]"
      ],
      "execution_count": null,
      "outputs": [
        {
          "output_type": "execute_result",
          "data": {
            "text/plain": [
              "'0'"
            ]
          },
          "metadata": {
            "tags": []
          },
          "execution_count": 6
        }
      ]
    },
    {
      "cell_type": "code",
      "metadata": {
        "id": "Db-wqQqE1W-X",
        "colab_type": "code",
        "colab": {}
      },
      "source": [
        "for i in range(len(data_label)):\n",
        "    data_label[i] = data_path[i].split('/')[2]"
      ],
      "execution_count": null,
      "outputs": []
    },
    {
      "cell_type": "code",
      "metadata": {
        "id": "JvJwc7C81W-d",
        "colab_type": "code",
        "colab": {}
      },
      "source": [
        "# set을 통한 중복 제거\n",
        "class_names = list(set(data_label))"
      ],
      "execution_count": null,
      "outputs": []
    },
    {
      "cell_type": "code",
      "metadata": {
        "scrolled": true,
        "id": "Gwu6JJXO1W-g",
        "colab_type": "code",
        "colab": {},
        "outputId": "52bd1547-d64c-4f1b-9978-883349615284"
      },
      "source": [
        "class_names"
      ],
      "execution_count": null,
      "outputs": [
        {
          "output_type": "execute_result",
          "data": {
            "text/plain": [
              "['0', '1', '3', '2']"
            ]
          },
          "metadata": {
            "tags": []
          },
          "execution_count": 10
        }
      ]
    },
    {
      "cell_type": "code",
      "metadata": {
        "id": "K5CclpWv1W-i",
        "colab_type": "code",
        "colab": {}
      },
      "source": [
        "from sklearn.model_selection import train_test_split"
      ],
      "execution_count": null,
      "outputs": []
    },
    {
      "cell_type": "code",
      "metadata": {
        "id": "oMneXuXK1W-k",
        "colab_type": "code",
        "colab": {}
      },
      "source": [
        "X_train, X_test, y_train, y_test = train_test_split(data_path, data_label, test_size = 0.2,\\\n",
        "                                                    random_state = 123, shuffle=True, stratify=data_label)"
      ],
      "execution_count": null,
      "outputs": []
    },
    {
      "cell_type": "code",
      "metadata": {
        "id": "yaJ-B6SZ1W-m",
        "colab_type": "code",
        "colab": {}
      },
      "source": [
        "import tqdm"
      ],
      "execution_count": null,
      "outputs": []
    },
    {
      "cell_type": "code",
      "metadata": {
        "id": "JFJHPWky1W-o",
        "colab_type": "code",
        "colab": {},
        "outputId": "e9fe8913-c773-42fe-dcd6-7c5490ccea7b"
      },
      "source": [
        "for i in tqdm.trange(len(X_train)):\n",
        "    image = Image.open(X_train[i])\n",
        "    X_train[i] = np.array(image, dtype='float32')"
      ],
      "execution_count": null,
      "outputs": [
        {
          "output_type": "stream",
          "text": [
            "100%|██████████| 13388/13388 [00:36<00:00, 363.52it/s]\n"
          ],
          "name": "stderr"
        }
      ]
    },
    {
      "cell_type": "code",
      "metadata": {
        "scrolled": true,
        "id": "Ep6D3RcJ1W-r",
        "colab_type": "code",
        "colab": {},
        "outputId": "27b79be9-cb6f-4cbf-d62c-f843e1871f90"
      },
      "source": [
        "for i in tqdm.trange(len(X_test)):\n",
        "    image = Image.open(X_test[i])\n",
        "    X_test[i] = np.array(image, dtype='float32')"
      ],
      "execution_count": null,
      "outputs": [
        {
          "output_type": "stream",
          "text": [
            "100%|██████████| 3347/3347 [00:10<00:00, 316.57it/s]\n"
          ],
          "name": "stderr"
        }
      ]
    },
    {
      "cell_type": "code",
      "metadata": {
        "id": "Koi-sY7K1W-t",
        "colab_type": "code",
        "colab": {}
      },
      "source": [
        "np.savez_compressed('zucchini.npz', X_train=X_train, y_train=y_train, X_test=X_test, y_test=y_test)"
      ],
      "execution_count": null,
      "outputs": []
    }
  ]
}