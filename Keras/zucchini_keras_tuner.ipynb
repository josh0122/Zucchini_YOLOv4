{
  "nbformat": 4,
  "nbformat_minor": 0,
  "metadata": {
    "colab": {
      "name": "zucchini_keras_tuner.ipynb",
      "provenance": [],
      "collapsed_sections": [],
      "toc_visible": true,
      "machine_shape": "hm"
    },
    "kernelspec": {
      "name": "python3",
      "display_name": "Python 3"
    },
    "accelerator": "GPU"
  },
  "cells": [
    {
      "cell_type": "markdown",
      "metadata": {
        "id": "NNw_YraOOfeD",
        "colab_type": "text"
      },
      "source": [
        "## 분석 환경 설정\n"
      ]
    },
    {
      "cell_type": "code",
      "metadata": {
        "id": "Psv_s5jhNniX",
        "colab_type": "code",
        "colab": {}
      },
      "source": [
        "# colab tf 2.x 기본 제공하지 않음\n",
        "# kearstuner 관련 소스 설치\n",
        "\n",
        "%tensorflow_version 2.x\n",
        "!pip install git+https://github.com/keras-team/keras-tuner.git"
      ],
      "execution_count": null,
      "outputs": []
    },
    {
      "cell_type": "code",
      "metadata": {
        "id": "hW1ptpkkMHoA",
        "colab_type": "code",
        "colab": {}
      },
      "source": [
        "import os\n",
        "from glob import glob\n",
        "import numpy as np\n",
        "import tqdm\n",
        "from PIL import Image\n",
        "import matplotlib.pyplot as plt\n",
        "\n",
        "import tensorflow as tf\n",
        "from tensorflow import keras\n",
        "from tensorflow.keras import utils\n",
        "from tensorflow.keras import layers\n",
        "from tensorflow.keras import datasets\n",
        "from sklearn.model_selection import train_test_split\n",
        "from tensorflow.keras.callbacks import EarlyStopping\n",
        "from tensorflow.keras.layers import Dense, Dropout, Flatten, Conv2D, MaxPooling2D\n",
        "from kerastuner.tuners import RandomSearch\n",
        "from kerastuner import HyperModel\n",
        "\n",
        "%matplotlib inline"
      ],
      "execution_count": 2,
      "outputs": []
    },
    {
      "cell_type": "code",
      "metadata": {
        "id": "OoADJ5d4OcVN",
        "colab_type": "code",
        "colab": {
          "base_uri": "https://localhost:8080/",
          "height": 122
        },
        "outputId": "9dbc4ff5-9b48-4998-e1d1-5bb15ec0ce95"
      },
      "source": [
        "from google.colab import drive\n",
        "drive.mount('/content/drive')"
      ],
      "execution_count": 3,
      "outputs": [
        {
          "output_type": "stream",
          "text": [
            "Go to this URL in a browser: https://accounts.google.com/o/oauth2/auth?client_id=947318989803-6bn6qk8qdgf4n4g3pfee6491hc0brc4i.apps.googleusercontent.com&redirect_uri=urn%3aietf%3awg%3aoauth%3a2.0%3aoob&scope=email%20https%3a%2f%2fwww.googleapis.com%2fauth%2fdocs.test%20https%3a%2f%2fwww.googleapis.com%2fauth%2fdrive%20https%3a%2f%2fwww.googleapis.com%2fauth%2fdrive.photos.readonly%20https%3a%2f%2fwww.googleapis.com%2fauth%2fpeopleapi.readonly&response_type=code\n",
            "\n",
            "Enter your authorization code:\n",
            "··········\n",
            "Mounted at /content/drive\n"
          ],
          "name": "stdout"
        }
      ]
    },
    {
      "cell_type": "markdown",
      "metadata": {
        "id": "-ng5u32nOUBE",
        "colab_type": "text"
      },
      "source": [
        "## Data Loading"
      ]
    },
    {
      "cell_type": "code",
      "metadata": {
        "id": "t25QDGdx3PsU",
        "colab_type": "code",
        "colab": {}
      },
      "source": [
        "data = np.load(\"/content/drive/My Drive/gmmpg/zucchini_dataset.npz\")\n",
        "X_train, y_train, X_test, y_test = [data[f] for f in data.files]"
      ],
      "execution_count": 4,
      "outputs": []
    },
    {
      "cell_type": "code",
      "metadata": {
        "id": "2Qfc2nmN48mC",
        "colab_type": "code",
        "colab": {}
      },
      "source": [
        "# 픽셀 값 조정\n",
        "\n",
        "X_train = np.asarray(X_train)\n",
        "X_test = np.asarray(X_test)\n",
        "y_train = np.asarray(y_train)\n",
        "y_test = np.asarray(y_test)\n",
        "\n",
        "X_train = X_train / 255.0\n",
        "X_test = X_test / 255.0"
      ],
      "execution_count": 5,
      "outputs": []
    },
    {
      "cell_type": "code",
      "metadata": {
        "id": "88OSPsJn4-P-",
        "colab_type": "code",
        "colab": {}
      },
      "source": [
        "# one-hot encoding\n",
        "\n",
        "y_train = utils.to_categorical(y_train, 4)\n",
        "y_test = utils.to_categorical(y_test, 4)"
      ],
      "execution_count": 6,
      "outputs": []
    },
    {
      "cell_type": "code",
      "metadata": {
        "id": "S91WAWKiRsle",
        "colab_type": "code",
        "colab": {}
      },
      "source": [
        "class CNNHyperModel(HyperModel):\n",
        "    def __init__(self, input_shape, num_classes):\n",
        "        self.input_shape = input_shape\n",
        "        self.num_classes = num_classes\n",
        "\n",
        "    def build(self, hp):\n",
        "        model = keras.Sequential()\n",
        "        model.add(Conv2D(filters = hp.Choice('num_filters_1', values=[32,64], default = 32),\n",
        "                         input_shape = X_train.shape[1:], kernel_size = (3, 3), padding = 'same', activation = 'relu'))\n",
        "        model.add(MaxPooling2D(pool_size = (2, 2)))\n",
        "        model.add(Dropout(rate=hp.Float('dropout_1', min_value=0.0, max_value=0.5,\n",
        "                                        default=0.25, step=0.05)))\n",
        "                                        \n",
        "        \n",
        "        model.add(Conv2D(filters=hp.Choice('num_filters_2', values=[32, 64], default=64),\n",
        "                         activation='relu', kernel_size=3))\n",
        "        model.add(MaxPooling2D(pool_size = (2, 2)))\n",
        "        model.add(Dropout(rate=hp.Float('dropout_2', min_value=0.0, max_value=0.5,\n",
        "                                        default=0.25, step=0.05)))\n",
        "        \n",
        "        model.add(Flatten())\n",
        "        model.add(Dense(units=hp.Int('units', min_value=32, max_value=512, step=32, default=64),\n",
        "                        activation=hp.Choice('dense_activation', values=['relu', 'tanh', 'sigmoid'], default='relu')))\n",
        "        model.add(Dropout(rate=hp.Float('dropout_3', min_value=0.0, max_value=0.5,\n",
        "                                        default=0.25, step=0.05)))\n",
        "        \n",
        "        model.add(Dense(self.num_classes, activation='softmax'))\n",
        "        model.compile(optimizer=keras.optimizers.Adam(hp.Float('learning_rate',min_value=1e-4, max_value=1e-2,\n",
        "                                                               sampling='LOG', default=1e-3)),\n",
        "                      loss='categorical_crossentropy', metrics=['accuracy'])\n",
        "        return model"
      ],
      "execution_count": 7,
      "outputs": []
    },
    {
      "cell_type": "code",
      "metadata": {
        "id": "uFbI5jJsR595",
        "colab_type": "code",
        "colab": {
          "base_uri": "https://localhost:8080/",
          "height": 323
        },
        "outputId": "b326d4a8-b7cc-40ff-f244-5b8b7e680265"
      },
      "source": [
        "SEED = 1\n",
        "MAX_TRIALS = 15\n",
        "EXECUTION_PER_TRIAL = 2\n",
        "\n",
        "hypermodel = CNNHyperModel(input_shape=(256, 256, 3), num_classes=4)\n",
        "tuner = RandomSearch(\n",
        "    hypermodel,\n",
        "    objective=\"val_accuracy\",\n",
        "    seed=SEED,\n",
        "    max_trials=MAX_TRIALS,\n",
        "    executions_per_trial=EXECUTION_PER_TRIAL,\n",
        "    directory=\"/content/gmmpg\",\n",
        "    project_name=\"gmmpg\"   \n",
        ")\n",
        "tuner.search_space_summary()"
      ],
      "execution_count": 8,
      "outputs": [
        {
          "output_type": "stream",
          "text": [
            "Search space summary\n",
            "Default search space size: 8\n",
            "num_filters_1 (Choice)\n",
            "{'default': 32, 'conditions': [], 'values': [32, 64], 'ordered': True}\n",
            "dropout_1 (Float)\n",
            "{'default': 0.25, 'conditions': [], 'min_value': 0.0, 'max_value': 0.5, 'step': 0.05, 'sampling': None}\n",
            "num_filters_2 (Choice)\n",
            "{'default': 64, 'conditions': [], 'values': [32, 64], 'ordered': True}\n",
            "dropout_2 (Float)\n",
            "{'default': 0.25, 'conditions': [], 'min_value': 0.0, 'max_value': 0.5, 'step': 0.05, 'sampling': None}\n",
            "units (Int)\n",
            "{'default': 64, 'conditions': [], 'min_value': 32, 'max_value': 512, 'step': 32, 'sampling': None}\n",
            "dense_activation (Choice)\n",
            "{'default': 'relu', 'conditions': [], 'values': ['relu', 'tanh', 'sigmoid'], 'ordered': False}\n",
            "dropout_3 (Float)\n",
            "{'default': 0.25, 'conditions': [], 'min_value': 0.0, 'max_value': 0.5, 'step': 0.05, 'sampling': None}\n",
            "learning_rate (Float)\n",
            "{'default': 0.001, 'conditions': [], 'min_value': 0.0001, 'max_value': 0.01, 'step': None, 'sampling': 'log'}\n"
          ],
          "name": "stdout"
        }
      ]
    },
    {
      "cell_type": "code",
      "metadata": {
        "id": "xpS_CqeLKupS",
        "colab_type": "code",
        "colab": {
          "base_uri": "https://localhost:8080/",
          "height": 34
        },
        "outputId": "eff679c1-62c7-4ffc-d301-b0355ffdbde5"
      },
      "source": [
        "X_train.shape"
      ],
      "execution_count": 9,
      "outputs": [
        {
          "output_type": "execute_result",
          "data": {
            "text/plain": [
              "(13388, 256, 256, 3)"
            ]
          },
          "metadata": {
            "tags": []
          },
          "execution_count": 9
        }
      ]
    },
    {
      "cell_type": "code",
      "metadata": {
        "id": "6oBbdTM7SREq",
        "colab_type": "code",
        "colab": {
          "base_uri": "https://localhost:8080/",
          "height": 119
        },
        "outputId": "84de1fc2-7ef2-44d5-80f2-820a83905489"
      },
      "source": [
        "tuner.search(X_train, y_train, batch_size=200, epochs=70, validation_split=0.2)"
      ],
      "execution_count": 10,
      "outputs": [
        {
          "output_type": "stream",
          "text": [
            "Trial 15 Complete [00h 27m 22s]\n",
            "val_accuracy: 0.30582523345947266\n",
            "\n",
            "Best val_accuracy So Far: 0.9536967873573303\n",
            "Total elapsed time: 08h 11m 52s\n",
            "INFO:tensorflow:Oracle triggered exit\n"
          ],
          "name": "stdout"
        }
      ]
    },
    {
      "cell_type": "code",
      "metadata": {
        "id": "7eK3quNjSZTz",
        "colab_type": "code",
        "colab": {
          "base_uri": "https://localhost:8080/",
          "height": 1000
        },
        "outputId": "f2d6d4fc-a71c-4319-f48d-523bdfead77c"
      },
      "source": [
        "tuner.results_summary()"
      ],
      "execution_count": 11,
      "outputs": [
        {
          "output_type": "stream",
          "text": [
            "Results summary\n",
            "Results in /content/gmmpg/gmmpg\n",
            "Showing 10 best trials\n",
            "Objective(name='val_accuracy', direction='max')\n",
            "Trial summary\n",
            "Hyperparameters:\n",
            "num_filters_1: 64\n",
            "dropout_1: 0.35000000000000003\n",
            "num_filters_2: 64\n",
            "dropout_2: 0.05\n",
            "units: 288\n",
            "dense_activation: sigmoid\n",
            "dropout_3: 0.0\n",
            "learning_rate: 0.0001428379365495633\n",
            "Score: 0.9536967873573303\n",
            "Trial summary\n",
            "Hyperparameters:\n",
            "num_filters_1: 64\n",
            "dropout_1: 0.05\n",
            "num_filters_2: 32\n",
            "dropout_2: 0.35000000000000003\n",
            "units: 352\n",
            "dense_activation: relu\n",
            "dropout_3: 0.15000000000000002\n",
            "learning_rate: 0.00014023399602325874\n",
            "Score: 0.9503360986709595\n",
            "Trial summary\n",
            "Hyperparameters:\n",
            "num_filters_1: 64\n",
            "dropout_1: 0.30000000000000004\n",
            "num_filters_2: 32\n",
            "dropout_2: 0.2\n",
            "units: 160\n",
            "dense_activation: relu\n",
            "dropout_3: 0.2\n",
            "learning_rate: 0.0012482904754698163\n",
            "Score: 0.9497759342193604\n",
            "Trial summary\n",
            "Hyperparameters:\n",
            "num_filters_1: 64\n",
            "dropout_1: 0.30000000000000004\n",
            "num_filters_2: 64\n",
            "dropout_2: 0.25\n",
            "units: 160\n",
            "dense_activation: relu\n",
            "dropout_3: 0.5\n",
            "learning_rate: 0.0005285006792644589\n",
            "Score: 0.9473487734794617\n",
            "Trial summary\n",
            "Hyperparameters:\n",
            "num_filters_1: 64\n",
            "dropout_1: 0.05\n",
            "num_filters_2: 64\n",
            "dropout_2: 0.35000000000000003\n",
            "units: 128\n",
            "dense_activation: relu\n",
            "dropout_3: 0.05\n",
            "learning_rate: 0.0006237028864858578\n",
            "Score: 0.9404406249523163\n",
            "Trial summary\n",
            "Hyperparameters:\n",
            "num_filters_1: 64\n",
            "dropout_1: 0.45\n",
            "num_filters_2: 64\n",
            "dropout_2: 0.2\n",
            "units: 416\n",
            "dense_activation: relu\n",
            "dropout_3: 0.05\n",
            "learning_rate: 0.0003491260272208854\n",
            "Score: 0.9316654205322266\n",
            "Trial summary\n",
            "Hyperparameters:\n",
            "num_filters_1: 32\n",
            "dropout_1: 0.1\n",
            "num_filters_2: 32\n",
            "dropout_2: 0.2\n",
            "units: 480\n",
            "dense_activation: sigmoid\n",
            "dropout_3: 0.4\n",
            "learning_rate: 0.0005510469719519641\n",
            "Score: 0.6355489194393158\n",
            "Trial summary\n",
            "Hyperparameters:\n",
            "num_filters_1: 32\n",
            "dropout_1: 0.5\n",
            "num_filters_2: 32\n",
            "dropout_2: 0.1\n",
            "units: 320\n",
            "dense_activation: sigmoid\n",
            "dropout_3: 0.15000000000000002\n",
            "learning_rate: 0.00028406107009737317\n",
            "Score: 0.6329350173473358\n",
            "Trial summary\n",
            "Hyperparameters:\n",
            "num_filters_1: 64\n",
            "dropout_1: 0.1\n",
            "num_filters_2: 32\n",
            "dropout_2: 0.45\n",
            "units: 96\n",
            "dense_activation: relu\n",
            "dropout_3: 0.45\n",
            "learning_rate: 0.0026588018706229753\n",
            "Score: 0.6043689250946045\n",
            "Trial summary\n",
            "Hyperparameters:\n",
            "num_filters_1: 32\n",
            "dropout_1: 0.25\n",
            "num_filters_2: 64\n",
            "dropout_2: 0.15000000000000002\n",
            "units: 352\n",
            "dense_activation: sigmoid\n",
            "dropout_3: 0.1\n",
            "learning_rate: 0.0008264439766792489\n",
            "Score: 0.30582523345947266\n"
          ],
          "name": "stdout"
        }
      ]
    },
    {
      "cell_type": "code",
      "metadata": {
        "id": "UW_tAdULSZ1z",
        "colab_type": "code",
        "colab": {}
      },
      "source": [
        "best_models = tuner.get_best_models(num_models=1)[0]"
      ],
      "execution_count": 12,
      "outputs": []
    },
    {
      "cell_type": "code",
      "metadata": {
        "id": "Rb1-AbzMEfcT",
        "colab_type": "code",
        "colab": {
          "base_uri": "https://localhost:8080/",
          "height": 34
        },
        "outputId": "7ab480ba-be38-4d20-ba96-37cfd45a30ac"
      },
      "source": [
        "loss, accuracy = best_models.evaluate(X_test, y_test)"
      ],
      "execution_count": 13,
      "outputs": [
        {
          "output_type": "stream",
          "text": [
            "105/105 [==============================] - 2s 18ms/step - loss: 0.1454 - accuracy: 0.9555\n"
          ],
          "name": "stdout"
        }
      ]
    },
    {
      "cell_type": "code",
      "metadata": {
        "id": "DeW3F6oFEmWq",
        "colab_type": "code",
        "colab": {
          "base_uri": "https://localhost:8080/",
          "height": 493
        },
        "outputId": "16f54d77-7176-4a59-e6f4-baa5a4f73de6"
      },
      "source": [
        "best_models.summary()"
      ],
      "execution_count": 15,
      "outputs": [
        {
          "output_type": "stream",
          "text": [
            "Model: \"sequential\"\n",
            "_________________________________________________________________\n",
            "Layer (type)                 Output Shape              Param #   \n",
            "=================================================================\n",
            "conv2d (Conv2D)              (None, 256, 256, 64)      1792      \n",
            "_________________________________________________________________\n",
            "max_pooling2d (MaxPooling2D) (None, 128, 128, 64)      0         \n",
            "_________________________________________________________________\n",
            "dropout (Dropout)            (None, 128, 128, 64)      0         \n",
            "_________________________________________________________________\n",
            "conv2d_1 (Conv2D)            (None, 126, 126, 64)      36928     \n",
            "_________________________________________________________________\n",
            "max_pooling2d_1 (MaxPooling2 (None, 63, 63, 64)        0         \n",
            "_________________________________________________________________\n",
            "dropout_1 (Dropout)          (None, 63, 63, 64)        0         \n",
            "_________________________________________________________________\n",
            "flatten (Flatten)            (None, 254016)            0         \n",
            "_________________________________________________________________\n",
            "dense (Dense)                (None, 288)               73156896  \n",
            "_________________________________________________________________\n",
            "dropout_2 (Dropout)          (None, 288)               0         \n",
            "_________________________________________________________________\n",
            "dense_1 (Dense)              (None, 4)                 1156      \n",
            "=================================================================\n",
            "Total params: 73,196,772\n",
            "Trainable params: 73,196,772\n",
            "Non-trainable params: 0\n",
            "_________________________________________________________________\n"
          ],
          "name": "stdout"
        }
      ]
    },
    {
      "cell_type": "code",
      "metadata": {
        "id": "RqOMTvMgFtdt",
        "colab_type": "code",
        "colab": {}
      },
      "source": [
        "best_models.save('best_model.h5')"
      ],
      "execution_count": 16,
      "outputs": []
    },
    {
      "cell_type": "code",
      "metadata": {
        "id": "wYuLyVknLlMJ",
        "colab_type": "code",
        "colab": {}
      },
      "source": [
        ""
      ],
      "execution_count": null,
      "outputs": []
    }
  ]
}