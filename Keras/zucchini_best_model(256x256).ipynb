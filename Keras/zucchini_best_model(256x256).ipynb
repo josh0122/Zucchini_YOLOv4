{
  "nbformat": 4,
  "nbformat_minor": 0,
  "metadata": {
    "colab": {
      "name": "zucchini_best_model",
      "provenance": [],
      "machine_shape": "hm"
    },
    "kernelspec": {
      "name": "python3",
      "display_name": "Python 3"
    },
    "accelerator": "GPU"
  },
  "cells": [
    {
      "cell_type": "code",
      "metadata": {
        "id": "rj7rFk_vTgrt",
        "colab_type": "code",
        "colab": {}
      },
      "source": [
        "import os\n",
        "from glob import glob\n",
        "import numpy as np\n",
        "import tqdm\n",
        "from PIL import Image\n",
        "import matplotlib.pyplot as plt\n",
        "\n",
        "import tensorflow as tf\n",
        "from tensorflow import keras\n",
        "from tensorflow.keras import utils\n",
        "from tensorflow.keras import layers\n",
        "from tensorflow.keras import datasets\n",
        "from sklearn.model_selection import train_test_split\n",
        "from tensorflow.keras.callbacks import EarlyStopping\n",
        "from tensorflow.keras.layers import Dense, Dropout, Flatten, Conv2D, MaxPooling2D\n",
        "\n",
        "%matplotlib inline"
      ],
      "execution_count": 1,
      "outputs": []
    },
    {
      "cell_type": "code",
      "metadata": {
        "id": "M0PNVfuETjr1",
        "colab_type": "code",
        "colab": {
          "base_uri": "https://localhost:8080/",
          "height": 122
        },
        "outputId": "d464145f-e111-4fe1-e61a-391754b280d9"
      },
      "source": [
        "from google.colab import drive\n",
        "drive.mount('/content/drive')"
      ],
      "execution_count": 2,
      "outputs": [
        {
          "output_type": "stream",
          "text": [
            "Go to this URL in a browser: https://accounts.google.com/o/oauth2/auth?client_id=947318989803-6bn6qk8qdgf4n4g3pfee6491hc0brc4i.apps.googleusercontent.com&redirect_uri=urn%3aietf%3awg%3aoauth%3a2.0%3aoob&scope=email%20https%3a%2f%2fwww.googleapis.com%2fauth%2fdocs.test%20https%3a%2f%2fwww.googleapis.com%2fauth%2fdrive%20https%3a%2f%2fwww.googleapis.com%2fauth%2fdrive.photos.readonly%20https%3a%2f%2fwww.googleapis.com%2fauth%2fpeopleapi.readonly&response_type=code\n",
            "\n",
            "Enter your authorization code:\n",
            "··········\n",
            "Mounted at /content/drive\n"
          ],
          "name": "stdout"
        }
      ]
    },
    {
      "cell_type": "code",
      "metadata": {
        "id": "f2l8ZokhTlX3",
        "colab_type": "code",
        "colab": {}
      },
      "source": [
        "data = np.load(\"/content/drive/My Drive/gmmpg/zucchini.npz\")\n",
        "X_train, y_train, X_test, y_test = [data[f] for f in data.files]"
      ],
      "execution_count": 3,
      "outputs": []
    },
    {
      "cell_type": "code",
      "metadata": {
        "id": "oUFQuWeeT1Xf",
        "colab_type": "code",
        "colab": {}
      },
      "source": [
        "# 픽셀 값 조정\n",
        "\n",
        "X_train = np.asarray(X_train)\n",
        "X_test = np.asarray(X_test)\n",
        "y_train = np.asarray(y_train)\n",
        "y_test = np.asarray(y_test)\n",
        "\n",
        "X_train = X_train / 255.0\n",
        "X_test = X_test / 255.0"
      ],
      "execution_count": 4,
      "outputs": []
    },
    {
      "cell_type": "code",
      "metadata": {
        "id": "WXUv35-sT3OH",
        "colab_type": "code",
        "colab": {}
      },
      "source": [
        "# one-hot encoding\n",
        "\n",
        "y_train = utils.to_categorical(y_train, 4)\n",
        "y_test = utils.to_categorical(y_test, 4)"
      ],
      "execution_count": 5,
      "outputs": []
    },
    {
      "cell_type": "code",
      "metadata": {
        "id": "H_x-i4r1T5Q4",
        "colab_type": "code",
        "colab": {}
      },
      "source": [
        "num_epochs = 100\n",
        "batch_size = 200\n",
        "\n",
        "learning_rate = 0.00014023399602325874\n",
        "\n",
        "input_shape = (256, 256, 3)\n",
        "num_classes = 4"
      ],
      "execution_count": 6,
      "outputs": []
    },
    {
      "cell_type": "code",
      "metadata": {
        "id": "HinTufisUiwx",
        "colab_type": "code",
        "colab": {}
      },
      "source": [
        "model = keras.Sequential([\n",
        "    Conv2D(64, kernel_size = (3, 3), padding = 'same', input_shape = input_shape, activation = tf.nn.relu),\n",
        "    MaxPooling2D(pool_size = (2, 2)),\n",
        "    Dropout(0.05),\n",
        "    \n",
        "    Conv2D(32, kernel_size = (3, 3), padding = 'same', activation = tf.nn.relu),\n",
        "    MaxPooling2D(pool_size = (2, 2)),\n",
        "    Dropout(0.35000000000000003),\n",
        "    \n",
        "    Flatten(),\n",
        "    Dense(352, activation = tf.nn.relu),\n",
        "    Dropout(0.15000000000000002),\n",
        "    Dense(num_classes, activation = tf.nn.softmax)\n",
        "])"
      ],
      "execution_count": 7,
      "outputs": []
    },
    {
      "cell_type": "code",
      "metadata": {
        "id": "5DLpm5YMVCYs",
        "colab_type": "code",
        "colab": {
          "base_uri": "https://localhost:8080/",
          "height": 493
        },
        "outputId": "619697bd-30fd-42ef-b206-b3fd87981bb7"
      },
      "source": [
        "model.summary()"
      ],
      "execution_count": 8,
      "outputs": [
        {
          "output_type": "stream",
          "text": [
            "Model: \"sequential\"\n",
            "_________________________________________________________________\n",
            "Layer (type)                 Output Shape              Param #   \n",
            "=================================================================\n",
            "conv2d (Conv2D)              (None, 256, 256, 64)      1792      \n",
            "_________________________________________________________________\n",
            "max_pooling2d (MaxPooling2D) (None, 128, 128, 64)      0         \n",
            "_________________________________________________________________\n",
            "dropout (Dropout)            (None, 128, 128, 64)      0         \n",
            "_________________________________________________________________\n",
            "conv2d_1 (Conv2D)            (None, 128, 128, 32)      18464     \n",
            "_________________________________________________________________\n",
            "max_pooling2d_1 (MaxPooling2 (None, 64, 64, 32)        0         \n",
            "_________________________________________________________________\n",
            "dropout_1 (Dropout)          (None, 64, 64, 32)        0         \n",
            "_________________________________________________________________\n",
            "flatten (Flatten)            (None, 131072)            0         \n",
            "_________________________________________________________________\n",
            "dense (Dense)                (None, 352)               46137696  \n",
            "_________________________________________________________________\n",
            "dropout_2 (Dropout)          (None, 352)               0         \n",
            "_________________________________________________________________\n",
            "dense_1 (Dense)              (None, 4)                 1412      \n",
            "=================================================================\n",
            "Total params: 46,159,364\n",
            "Trainable params: 46,159,364\n",
            "Non-trainable params: 0\n",
            "_________________________________________________________________\n"
          ],
          "name": "stdout"
        }
      ]
    },
    {
      "cell_type": "code",
      "metadata": {
        "id": "1kZod_5mVHUH",
        "colab_type": "code",
        "colab": {}
      },
      "source": [
        "model.compile(\n",
        "    loss = 'categorical_crossentropy',\n",
        "    optimizer = tf.keras.optimizers.Adam(learning_rate),\n",
        "    metrics = ['accuracy']\n",
        ")"
      ],
      "execution_count": 9,
      "outputs": []
    },
    {
      "cell_type": "code",
      "metadata": {
        "id": "x3JvhtbuVJ5I",
        "colab_type": "code",
        "colab": {}
      },
      "source": [
        "model_name = 'best_model.h5'\n",
        "\n",
        "modelCheckpoint = tf.keras.callbacks.ModelCheckpoint(model_name, save_best_only=True)"
      ],
      "execution_count": 10,
      "outputs": []
    },
    {
      "cell_type": "code",
      "metadata": {
        "id": "tgA2SNemVibk",
        "colab_type": "code",
        "colab": {
          "base_uri": "https://localhost:8080/",
          "height": 1000
        },
        "outputId": "209b5f30-7bea-4452-cfc3-8a5661d03679"
      },
      "source": [
        "history = model.fit(\n",
        "    X_train, \n",
        "    y_train,\n",
        "    batch_size = 200,\n",
        "    epochs = num_epochs,\n",
        "    validation_split = 0.2,\n",
        "    shuffle = True,\n",
        "    callbacks=[modelCheckpoint]\n",
        ")"
      ],
      "execution_count": 11,
      "outputs": [
        {
          "output_type": "stream",
          "text": [
            "Epoch 1/100\n",
            "54/54 [==============================] - 17s 315ms/step - loss: 1.9027 - accuracy: 0.3061 - val_loss: 1.3239 - val_accuracy: 0.3880\n",
            "Epoch 2/100\n",
            "54/54 [==============================] - 16s 295ms/step - loss: 1.2615 - accuracy: 0.4592 - val_loss: 1.1923 - val_accuracy: 0.4937\n",
            "Epoch 3/100\n",
            "54/54 [==============================] - 16s 294ms/step - loss: 1.1553 - accuracy: 0.5072 - val_loss: 1.1292 - val_accuracy: 0.5101\n",
            "Epoch 4/100\n",
            "54/54 [==============================] - 16s 294ms/step - loss: 1.0544 - accuracy: 0.5643 - val_loss: 1.0237 - val_accuracy: 0.5721\n",
            "Epoch 5/100\n",
            "54/54 [==============================] - 16s 297ms/step - loss: 0.9679 - accuracy: 0.6105 - val_loss: 0.9457 - val_accuracy: 0.6191\n",
            "Epoch 6/100\n",
            "54/54 [==============================] - 16s 290ms/step - loss: 0.8760 - accuracy: 0.6596 - val_loss: 0.8769 - val_accuracy: 0.6550\n",
            "Epoch 7/100\n",
            "54/54 [==============================] - 16s 297ms/step - loss: 0.7919 - accuracy: 0.6997 - val_loss: 0.7957 - val_accuracy: 0.6938\n",
            "Epoch 8/100\n",
            "54/54 [==============================] - 16s 296ms/step - loss: 0.7404 - accuracy: 0.7187 - val_loss: 0.7204 - val_accuracy: 0.7338\n",
            "Epoch 9/100\n",
            "54/54 [==============================] - 17s 308ms/step - loss: 0.6763 - accuracy: 0.7488 - val_loss: 0.6912 - val_accuracy: 0.7360\n",
            "Epoch 10/100\n",
            "54/54 [==============================] - 16s 297ms/step - loss: 0.6179 - accuracy: 0.7779 - val_loss: 0.6745 - val_accuracy: 0.7394\n",
            "Epoch 11/100\n",
            "54/54 [==============================] - 14s 260ms/step - loss: 0.5774 - accuracy: 0.7941 - val_loss: 0.6794 - val_accuracy: 0.7409\n",
            "Epoch 12/100\n",
            "54/54 [==============================] - 16s 295ms/step - loss: 0.5354 - accuracy: 0.8104 - val_loss: 0.5825 - val_accuracy: 0.7875\n",
            "Epoch 13/100\n",
            "54/54 [==============================] - 14s 261ms/step - loss: 0.5027 - accuracy: 0.8231 - val_loss: 0.6907 - val_accuracy: 0.7353\n",
            "Epoch 14/100\n",
            "54/54 [==============================] - 14s 262ms/step - loss: 0.4707 - accuracy: 0.8372 - val_loss: 0.6318 - val_accuracy: 0.7707\n",
            "Epoch 15/100\n",
            "54/54 [==============================] - 14s 261ms/step - loss: 0.4416 - accuracy: 0.8484 - val_loss: 0.5885 - val_accuracy: 0.7793\n",
            "Epoch 16/100\n",
            "54/54 [==============================] - 17s 306ms/step - loss: 0.4192 - accuracy: 0.8534 - val_loss: 0.4960 - val_accuracy: 0.8170\n",
            "Epoch 17/100\n",
            "54/54 [==============================] - 16s 296ms/step - loss: 0.3939 - accuracy: 0.8662 - val_loss: 0.4747 - val_accuracy: 0.8320\n",
            "Epoch 18/100\n",
            "54/54 [==============================] - 16s 297ms/step - loss: 0.3731 - accuracy: 0.8753 - val_loss: 0.4386 - val_accuracy: 0.8435\n",
            "Epoch 19/100\n",
            "54/54 [==============================] - 14s 261ms/step - loss: 0.3526 - accuracy: 0.8815 - val_loss: 0.5176 - val_accuracy: 0.8051\n",
            "Epoch 20/100\n",
            "54/54 [==============================] - 16s 295ms/step - loss: 0.3297 - accuracy: 0.8894 - val_loss: 0.4336 - val_accuracy: 0.8391\n",
            "Epoch 21/100\n",
            "54/54 [==============================] - 14s 261ms/step - loss: 0.3098 - accuracy: 0.8951 - val_loss: 0.4686 - val_accuracy: 0.8256\n",
            "Epoch 22/100\n",
            "54/54 [==============================] - 16s 298ms/step - loss: 0.2952 - accuracy: 0.9033 - val_loss: 0.3962 - val_accuracy: 0.8626\n",
            "Epoch 23/100\n",
            "54/54 [==============================] - 14s 261ms/step - loss: 0.2732 - accuracy: 0.9106 - val_loss: 0.4381 - val_accuracy: 0.8439\n",
            "Epoch 24/100\n",
            "54/54 [==============================] - 16s 292ms/step - loss: 0.2757 - accuracy: 0.9054 - val_loss: 0.3947 - val_accuracy: 0.8633\n",
            "Epoch 25/100\n",
            "54/54 [==============================] - 14s 262ms/step - loss: 0.2541 - accuracy: 0.9160 - val_loss: 0.4197 - val_accuracy: 0.8469\n",
            "Epoch 26/100\n",
            "54/54 [==============================] - 14s 263ms/step - loss: 0.2470 - accuracy: 0.9169 - val_loss: 0.4831 - val_accuracy: 0.8249\n",
            "Epoch 27/100\n",
            "54/54 [==============================] - 14s 263ms/step - loss: 0.2493 - accuracy: 0.9170 - val_loss: 0.4564 - val_accuracy: 0.8335\n",
            "Epoch 28/100\n",
            "54/54 [==============================] - 16s 292ms/step - loss: 0.2266 - accuracy: 0.9245 - val_loss: 0.3497 - val_accuracy: 0.8820\n",
            "Epoch 29/100\n",
            "54/54 [==============================] - 14s 262ms/step - loss: 0.2198 - accuracy: 0.9274 - val_loss: 0.3896 - val_accuracy: 0.8659\n",
            "Epoch 30/100\n",
            "54/54 [==============================] - 16s 297ms/step - loss: 0.2068 - accuracy: 0.9331 - val_loss: 0.3228 - val_accuracy: 0.8887\n",
            "Epoch 31/100\n",
            "54/54 [==============================] - 14s 262ms/step - loss: 0.1957 - accuracy: 0.9402 - val_loss: 0.3548 - val_accuracy: 0.8753\n",
            "Epoch 32/100\n",
            "54/54 [==============================] - 14s 261ms/step - loss: 0.1927 - accuracy: 0.9381 - val_loss: 0.3368 - val_accuracy: 0.8801\n",
            "Epoch 33/100\n",
            "54/54 [==============================] - 16s 289ms/step - loss: 0.1761 - accuracy: 0.9455 - val_loss: 0.2866 - val_accuracy: 0.9037\n",
            "Epoch 34/100\n",
            "54/54 [==============================] - 14s 263ms/step - loss: 0.1754 - accuracy: 0.9444 - val_loss: 0.3127 - val_accuracy: 0.8883\n",
            "Epoch 35/100\n",
            "54/54 [==============================] - 16s 299ms/step - loss: 0.1624 - accuracy: 0.9472 - val_loss: 0.2854 - val_accuracy: 0.9044\n",
            "Epoch 36/100\n",
            "54/54 [==============================] - 16s 291ms/step - loss: 0.1652 - accuracy: 0.9469 - val_loss: 0.2853 - val_accuracy: 0.8981\n",
            "Epoch 37/100\n",
            "54/54 [==============================] - 14s 263ms/step - loss: 0.1545 - accuracy: 0.9515 - val_loss: 0.3168 - val_accuracy: 0.8910\n",
            "Epoch 38/100\n",
            "54/54 [==============================] - 14s 263ms/step - loss: 0.1439 - accuracy: 0.9560 - val_loss: 0.2863 - val_accuracy: 0.9007\n",
            "Epoch 39/100\n",
            "54/54 [==============================] - 16s 295ms/step - loss: 0.1344 - accuracy: 0.9582 - val_loss: 0.2685 - val_accuracy: 0.9089\n",
            "Epoch 40/100\n",
            "54/54 [==============================] - 16s 299ms/step - loss: 0.1291 - accuracy: 0.9608 - val_loss: 0.2616 - val_accuracy: 0.9108\n",
            "Epoch 41/100\n",
            "54/54 [==============================] - 14s 262ms/step - loss: 0.1299 - accuracy: 0.9593 - val_loss: 0.3244 - val_accuracy: 0.8861\n",
            "Epoch 42/100\n",
            "54/54 [==============================] - 14s 262ms/step - loss: 0.1270 - accuracy: 0.9613 - val_loss: 0.2722 - val_accuracy: 0.9089\n",
            "Epoch 43/100\n",
            "54/54 [==============================] - 16s 298ms/step - loss: 0.1211 - accuracy: 0.9618 - val_loss: 0.2137 - val_accuracy: 0.9302\n",
            "Epoch 44/100\n",
            "54/54 [==============================] - 14s 263ms/step - loss: 0.1111 - accuracy: 0.9669 - val_loss: 0.2397 - val_accuracy: 0.9190\n",
            "Epoch 45/100\n",
            "54/54 [==============================] - 14s 261ms/step - loss: 0.1068 - accuracy: 0.9687 - val_loss: 0.2565 - val_accuracy: 0.9104\n",
            "Epoch 46/100\n",
            "54/54 [==============================] - 14s 260ms/step - loss: 0.1081 - accuracy: 0.9681 - val_loss: 0.2310 - val_accuracy: 0.9227\n",
            "Epoch 47/100\n",
            "54/54 [==============================] - 16s 298ms/step - loss: 0.0991 - accuracy: 0.9708 - val_loss: 0.2036 - val_accuracy: 0.9350\n",
            "Epoch 48/100\n",
            "54/54 [==============================] - 14s 262ms/step - loss: 0.0941 - accuracy: 0.9717 - val_loss: 0.2135 - val_accuracy: 0.9335\n",
            "Epoch 49/100\n",
            "54/54 [==============================] - 14s 263ms/step - loss: 0.0892 - accuracy: 0.9731 - val_loss: 0.2201 - val_accuracy: 0.9257\n",
            "Epoch 50/100\n",
            "54/54 [==============================] - 16s 296ms/step - loss: 0.0930 - accuracy: 0.9736 - val_loss: 0.1925 - val_accuracy: 0.9361\n",
            "Epoch 51/100\n",
            "54/54 [==============================] - 14s 263ms/step - loss: 0.0879 - accuracy: 0.9745 - val_loss: 0.2196 - val_accuracy: 0.9294\n",
            "Epoch 52/100\n",
            "54/54 [==============================] - 16s 298ms/step - loss: 0.0980 - accuracy: 0.9702 - val_loss: 0.1851 - val_accuracy: 0.9417\n",
            "Epoch 53/100\n",
            "54/54 [==============================] - 14s 261ms/step - loss: 0.0855 - accuracy: 0.9754 - val_loss: 0.2542 - val_accuracy: 0.9126\n",
            "Epoch 54/100\n",
            "54/54 [==============================] - 16s 294ms/step - loss: 0.0817 - accuracy: 0.9758 - val_loss: 0.1849 - val_accuracy: 0.9406\n",
            "Epoch 55/100\n",
            "54/54 [==============================] - 14s 263ms/step - loss: 0.0728 - accuracy: 0.9790 - val_loss: 0.2110 - val_accuracy: 0.9328\n",
            "Epoch 56/100\n",
            "54/54 [==============================] - 14s 262ms/step - loss: 0.0735 - accuracy: 0.9784 - val_loss: 0.1996 - val_accuracy: 0.9395\n",
            "Epoch 57/100\n",
            "54/54 [==============================] - 14s 264ms/step - loss: 0.0725 - accuracy: 0.9803 - val_loss: 0.1890 - val_accuracy: 0.9384\n",
            "Epoch 58/100\n",
            "54/54 [==============================] - 14s 264ms/step - loss: 0.0674 - accuracy: 0.9819 - val_loss: 0.2017 - val_accuracy: 0.9347\n",
            "Epoch 59/100\n",
            "54/54 [==============================] - 14s 261ms/step - loss: 0.0680 - accuracy: 0.9801 - val_loss: 0.2335 - val_accuracy: 0.9264\n",
            "Epoch 60/100\n",
            "54/54 [==============================] - 14s 264ms/step - loss: 0.0678 - accuracy: 0.9797 - val_loss: 0.1886 - val_accuracy: 0.9410\n",
            "Epoch 61/100\n",
            "54/54 [==============================] - 16s 292ms/step - loss: 0.0582 - accuracy: 0.9848 - val_loss: 0.1831 - val_accuracy: 0.9447\n",
            "Epoch 62/100\n",
            "54/54 [==============================] - 14s 263ms/step - loss: 0.0584 - accuracy: 0.9832 - val_loss: 0.1894 - val_accuracy: 0.9417\n",
            "Epoch 63/100\n",
            "54/54 [==============================] - 14s 262ms/step - loss: 0.0552 - accuracy: 0.9849 - val_loss: 0.2080 - val_accuracy: 0.9361\n",
            "Epoch 64/100\n",
            "54/54 [==============================] - 16s 297ms/step - loss: 0.0546 - accuracy: 0.9858 - val_loss: 0.1800 - val_accuracy: 0.9444\n",
            "Epoch 65/100\n",
            "54/54 [==============================] - 14s 263ms/step - loss: 0.0594 - accuracy: 0.9827 - val_loss: 0.1847 - val_accuracy: 0.9473\n",
            "Epoch 66/100\n",
            "54/54 [==============================] - 16s 295ms/step - loss: 0.0496 - accuracy: 0.9875 - val_loss: 0.1782 - val_accuracy: 0.9470\n",
            "Epoch 67/100\n",
            "54/54 [==============================] - 14s 263ms/step - loss: 0.0462 - accuracy: 0.9868 - val_loss: 0.2199 - val_accuracy: 0.9328\n",
            "Epoch 68/100\n",
            "54/54 [==============================] - 16s 290ms/step - loss: 0.0505 - accuracy: 0.9863 - val_loss: 0.1765 - val_accuracy: 0.9432\n",
            "Epoch 69/100\n",
            "54/54 [==============================] - 16s 290ms/step - loss: 0.0502 - accuracy: 0.9867 - val_loss: 0.1715 - val_accuracy: 0.9503\n",
            "Epoch 70/100\n",
            "54/54 [==============================] - 14s 262ms/step - loss: 0.0527 - accuracy: 0.9856 - val_loss: 0.1847 - val_accuracy: 0.9485\n",
            "Epoch 71/100\n",
            "54/54 [==============================] - 16s 298ms/step - loss: 0.0402 - accuracy: 0.9892 - val_loss: 0.1642 - val_accuracy: 0.9522\n",
            "Epoch 72/100\n",
            "54/54 [==============================] - 14s 263ms/step - loss: 0.0434 - accuracy: 0.9877 - val_loss: 0.1814 - val_accuracy: 0.9440\n",
            "Epoch 73/100\n",
            "54/54 [==============================] - 14s 261ms/step - loss: 0.0460 - accuracy: 0.9873 - val_loss: 0.1781 - val_accuracy: 0.9462\n",
            "Epoch 74/100\n",
            "54/54 [==============================] - 14s 262ms/step - loss: 0.0409 - accuracy: 0.9894 - val_loss: 0.1861 - val_accuracy: 0.9436\n",
            "Epoch 75/100\n",
            "54/54 [==============================] - 14s 260ms/step - loss: 0.0368 - accuracy: 0.9905 - val_loss: 0.1689 - val_accuracy: 0.9500\n",
            "Epoch 76/100\n",
            "54/54 [==============================] - 14s 261ms/step - loss: 0.0410 - accuracy: 0.9892 - val_loss: 0.1782 - val_accuracy: 0.9488\n",
            "Epoch 77/100\n",
            "54/54 [==============================] - 14s 262ms/step - loss: 0.0403 - accuracy: 0.9895 - val_loss: 0.1852 - val_accuracy: 0.9462\n",
            "Epoch 78/100\n",
            "54/54 [==============================] - 14s 261ms/step - loss: 0.0376 - accuracy: 0.9894 - val_loss: 0.1992 - val_accuracy: 0.9440\n",
            "Epoch 79/100\n",
            "54/54 [==============================] - 14s 262ms/step - loss: 0.0405 - accuracy: 0.9897 - val_loss: 0.1823 - val_accuracy: 0.9470\n",
            "Epoch 80/100\n",
            "54/54 [==============================] - 14s 262ms/step - loss: 0.0369 - accuracy: 0.9905 - val_loss: 0.1804 - val_accuracy: 0.9492\n",
            "Epoch 81/100\n",
            "54/54 [==============================] - 14s 261ms/step - loss: 0.0410 - accuracy: 0.9889 - val_loss: 0.1690 - val_accuracy: 0.9541\n",
            "Epoch 82/100\n",
            "54/54 [==============================] - 14s 262ms/step - loss: 0.0369 - accuracy: 0.9901 - val_loss: 0.2299 - val_accuracy: 0.9328\n",
            "Epoch 83/100\n",
            "54/54 [==============================] - 14s 260ms/step - loss: 0.0352 - accuracy: 0.9895 - val_loss: 0.1674 - val_accuracy: 0.9556\n",
            "Epoch 84/100\n",
            "54/54 [==============================] - 14s 261ms/step - loss: 0.0320 - accuracy: 0.9919 - val_loss: 0.1848 - val_accuracy: 0.9488\n",
            "Epoch 85/100\n",
            "54/54 [==============================] - 14s 260ms/step - loss: 0.0342 - accuracy: 0.9908 - val_loss: 0.1874 - val_accuracy: 0.9425\n",
            "Epoch 86/100\n",
            "54/54 [==============================] - 14s 260ms/step - loss: 0.0321 - accuracy: 0.9910 - val_loss: 0.1820 - val_accuracy: 0.9466\n",
            "Epoch 87/100\n",
            "54/54 [==============================] - 14s 260ms/step - loss: 0.0271 - accuracy: 0.9933 - val_loss: 0.1750 - val_accuracy: 0.9537\n",
            "Epoch 88/100\n",
            "54/54 [==============================] - 14s 261ms/step - loss: 0.0345 - accuracy: 0.9913 - val_loss: 0.1828 - val_accuracy: 0.9500\n",
            "Epoch 89/100\n",
            "54/54 [==============================] - 14s 260ms/step - loss: 0.0298 - accuracy: 0.9919 - val_loss: 0.1782 - val_accuracy: 0.9473\n",
            "Epoch 90/100\n",
            "54/54 [==============================] - 14s 260ms/step - loss: 0.0284 - accuracy: 0.9914 - val_loss: 0.1904 - val_accuracy: 0.9500\n",
            "Epoch 91/100\n",
            "54/54 [==============================] - 16s 291ms/step - loss: 0.0263 - accuracy: 0.9932 - val_loss: 0.1621 - val_accuracy: 0.9582\n",
            "Epoch 92/100\n",
            "54/54 [==============================] - 14s 263ms/step - loss: 0.0261 - accuracy: 0.9936 - val_loss: 0.2125 - val_accuracy: 0.9388\n",
            "Epoch 93/100\n",
            "54/54 [==============================] - 14s 262ms/step - loss: 0.0269 - accuracy: 0.9917 - val_loss: 0.1623 - val_accuracy: 0.9552\n",
            "Epoch 94/100\n",
            "54/54 [==============================] - 16s 297ms/step - loss: 0.0277 - accuracy: 0.9920 - val_loss: 0.1567 - val_accuracy: 0.9559\n",
            "Epoch 95/100\n",
            "54/54 [==============================] - 16s 294ms/step - loss: 0.0324 - accuracy: 0.9907 - val_loss: 0.1559 - val_accuracy: 0.9567\n",
            "Epoch 96/100\n",
            "54/54 [==============================] - 16s 295ms/step - loss: 0.0256 - accuracy: 0.9936 - val_loss: 0.1534 - val_accuracy: 0.9589\n",
            "Epoch 97/100\n",
            "54/54 [==============================] - 14s 261ms/step - loss: 0.0229 - accuracy: 0.9947 - val_loss: 0.1633 - val_accuracy: 0.9529\n",
            "Epoch 98/100\n",
            "54/54 [==============================] - 14s 261ms/step - loss: 0.0217 - accuracy: 0.9954 - val_loss: 0.1545 - val_accuracy: 0.9600\n",
            "Epoch 99/100\n",
            "54/54 [==============================] - 14s 261ms/step - loss: 0.0214 - accuracy: 0.9944 - val_loss: 0.1666 - val_accuracy: 0.9571\n",
            "Epoch 100/100\n",
            "54/54 [==============================] - 16s 295ms/step - loss: 0.0208 - accuracy: 0.9949 - val_loss: 0.1471 - val_accuracy: 0.9656\n"
          ],
          "name": "stdout"
        }
      ]
    },
    {
      "cell_type": "code",
      "metadata": {
        "id": "SbZ7Q5eOVkoB",
        "colab_type": "code",
        "colab": {
          "base_uri": "https://localhost:8080/",
          "height": 295
        },
        "outputId": "1a20e735-46d9-4383-ef94-1f5b46e18617"
      },
      "source": [
        "plt.plot(history.history['accuracy'])\n",
        "plt.plot(history.history['val_accuracy'])\n",
        "plt.title(\"Model Accuracy\")\n",
        "plt.ylabel('accuracy')\n",
        "plt.xlabel('epoch')\n",
        "plt.legend(['train', 'validation'])\n",
        "plt.show()"
      ],
      "execution_count": 12,
      "outputs": [
        {
          "output_type": "display_data",
          "data": {
            "image/png": "[encoded data removed]",
            "text/plain": [
              "<Figure size 432x288 with 1 Axes>"
            ]
          },
          "metadata": {
            "tags": [],
            "needs_background": "light"
          }
        }
      ]
    },
    {
      "cell_type": "code",
      "metadata": {
        "id": "I1vNyvkkVnLK",
        "colab_type": "code",
        "colab": {
          "base_uri": "https://localhost:8080/",
          "height": 295
        },
        "outputId": "13823fb9-5cc8-40f5-9efd-322a991dfbac"
      },
      "source": [
        "plt.plot(history.history['loss'])\n",
        "plt.plot(history.history['val_loss'])\n",
        "plt.title('Model Loss')\n",
        "plt.ylabel('loss')\n",
        "plt.xlabel('epoch')\n",
        "plt.legend(['train', 'validation'])\n",
        "plt.show()"
      ],
      "execution_count": 13,
      "outputs": [
        {
          "output_type": "display_data",
          "data": {
            "image/png": "[encoded data removed]",
            "text/plain": [
              "<Figure size 432x288 with 1 Axes>"
            ]
          },
          "metadata": {
            "tags": [],
            "needs_background": "light"
          }
        }
      ]
    },
    {
      "cell_type": "code",
      "metadata": {
        "id": "6HiS2hMHVpDn",
        "colab_type": "code",
        "colab": {
          "base_uri": "https://localhost:8080/",
          "height": 34
        },
        "outputId": "a080d842-2774-4dcb-9fbb-da99d877dc97"
      },
      "source": [
        "y_pred = model.predict(X_test)\n",
        "\n",
        "cor = 0\n",
        "for i in range(len(y_pred)):\n",
        "    if np.argmax(y_pred[i]) - np.argmax(y_test[i]) == 0:\n",
        "        cor += 1\n",
        "print('score :',cor / len(y_pred) * 100)"
      ],
      "execution_count": 14,
      "outputs": [
        {
          "output_type": "stream",
          "text": [
            "score : 95.93665969524949\n"
          ],
          "name": "stdout"
        }
      ]
    },
    {
      "cell_type": "code",
      "metadata": {
        "id": "GzCmdzUPVv4A",
        "colab_type": "code",
        "colab": {}
      },
      "source": [
        "from keras.models import load_model\n",
        "\n",
        "model.save(model_name)"
      ],
      "execution_count": 15,
      "outputs": []
    },
    {
      "cell_type": "code",
      "metadata": {
        "id": "uSUX_jy0VwkQ",
        "colab_type": "code",
        "colab": {}
      },
      "source": [
        ""
      ],
      "execution_count": 15,
      "outputs": []
    }
  ]
}
